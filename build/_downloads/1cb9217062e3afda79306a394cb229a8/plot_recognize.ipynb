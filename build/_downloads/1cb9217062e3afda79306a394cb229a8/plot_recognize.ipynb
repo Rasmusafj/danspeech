{
  "cells": [
    {
      "cell_type": "code",
      "execution_count": null,
      "metadata": {
        "collapsed": false
      },
      "outputs": [],
      "source": [
        "%matplotlib inline"
      ]
    },
    {
      "cell_type": "markdown",
      "metadata": {},
      "source": [
        "\nStream of audio from your microphone\n====================================\n\nThis is an example of using\n"
      ]
    },
    {
      "cell_type": "code",
      "execution_count": null,
      "metadata": {
        "collapsed": false
      },
      "outputs": [],
      "source": [
        "from danspeech import Recognizer\nfrom danspeech.pretrained_models import DanSpeechPrimary\nfrom danspeech.language_models import DSL3gram\nfrom danspeech.audio import load_audio\n\n# Load a DanSpeech model. If the model does not exists, it will be downloaded.\nmodel = DanSpeechPrimary()\nrecognizer = Recognizer(model=model)\n\n# Load the audio file.\naudio = load_audio(path=\"../example_files/u0013002.wav\")\n\nprint(\"No language model:\")\nprint(recognizer.recognize(audio))\n\n# DanSpeech with a language model.\n# Note: Requires ctcdecode to work!\nlm = DSL3gram()\nrecognizer.update_decoder(lm=lm, alpha=1.2, beta=0.15, beam_width=10)\n\nprint(\"Single transcription:\")\nprint(recognizer.recognize(audio, show_all=False))\n\n\nprint(\"Most likely beams:\")\nprint(recognizer.recognize(audio, show_all=True))"
      ]
    }
  ],
  "metadata": {
    "kernelspec": {
      "display_name": "Python 3",
      "language": "python",
      "name": "python3"
    },
    "language_info": {
      "codemirror_mode": {
        "name": "ipython",
        "version": 3
      },
      "file_extension": ".py",
      "mimetype": "text/x-python",
      "name": "python",
      "nbconvert_exporter": "python",
      "pygments_lexer": "ipython3",
      "version": "3.7.3"
    }
  },
  "nbformat": 4,
  "nbformat_minor": 0
}