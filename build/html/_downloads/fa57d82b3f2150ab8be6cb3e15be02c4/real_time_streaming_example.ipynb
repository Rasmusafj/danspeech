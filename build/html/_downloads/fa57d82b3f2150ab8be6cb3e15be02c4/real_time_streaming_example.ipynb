{
  "cells": [
    {
      "cell_type": "code",
      "execution_count": null,
      "metadata": {
        "collapsed": false
      },
      "outputs": [],
      "source": [
        "%matplotlib inline"
      ]
    },
    {
      "cell_type": "markdown",
      "metadata": {},
      "source": [
        "\nStream of audio from your microphone\n====================================\n\nThis is an example of using\n"
      ]
    },
    {
      "cell_type": "code",
      "execution_count": null,
      "metadata": {
        "collapsed": false
      },
      "outputs": [],
      "source": [
        "from danspeech import Recognizer\nfrom danspeech.pretrained_models import CPUStreamingRNN, TestModel\nfrom danspeech.audio.resources import Microphone\nfrom danspeech.language_models import DSL3gram\n\nprint(\"Loading model...\")\nmodel = CPUStreamingRNN()\n\nmic_list = Microphone.list_microphone_names()\nmic_list_with_numbers = list(zip(range(len(mic_list)), mic_list))\nprint(\"Available microphones: {0}\".format(mic_list_with_numbers))\nmic_number = input(\"Pick the number of the microphone you would like to use: \")\nm = Microphone(sampling_rate=16000, device_index=int(mic_number))\n\nr = Recognizer()\n\nprint(\"Adjusting energy level...\")\nwith m as source:\n    r.adjust_for_ambient_noise(source, duration=1)\n\n\nseconday_model = TestModel()\nr = Recognizer(model=model)\nlm = DSL3gram()\nr.update_decoder(lm=lm)\n\n\nr.enable_real_time_streaming(streaming_model=model, string_parts=False, secondary_model=seconday_model)\ngenerator = r.real_time_streaming(source=m)\n\niterating_transcript = \"\"\nprint(\"Speak!\")\nwhile True:\n    is_last, trans = next(generator)\n\n    # If the transcription is empty, it means that the energy level required for data\n    # was passed, but nothing was predicted.\n    if is_last and trans:\n        print(\"Final: \" + trans)\n        iterating_transcript = \"\"\n        continue\n\n    if trans:\n        iterating_transcript += trans\n        print(iterating_transcript)\n        continue"
      ]
    }
  ],
  "metadata": {
    "kernelspec": {
      "display_name": "Python 3",
      "language": "python",
      "name": "python3"
    },
    "language_info": {
      "codemirror_mode": {
        "name": "ipython",
        "version": 3
      },
      "file_extension": ".py",
      "mimetype": "text/x-python",
      "name": "python",
      "nbconvert_exporter": "python",
      "pygments_lexer": "ipython3",
      "version": "3.7.3"
    }
  },
  "nbformat": 4,
  "nbformat_minor": 0
}