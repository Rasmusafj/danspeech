{
  "cells": [
    {
      "cell_type": "code",
      "execution_count": null,
      "metadata": {
        "collapsed": false
      },
      "outputs": [],
      "source": [
        "%matplotlib inline"
      ]
    },
    {
      "cell_type": "markdown",
      "metadata": {},
      "source": [
        "\nTranscribing a single audio file\n================================\n\nIn this example script, DanSpeech is used to transcribe the same audio files with three different methods:\n\n- **greedy decoding** - using no external language model\n- **Beam search decoding** - Decoding with a language model (\u00b4\u00b4DSL3Gram\u00b4\u00b4)\n- **Beam search decoding (all beams)** - Decoding with a language model (\u00b4\u00b4DSL3Gram\u00b4\u00b4) and returning\n    the \u00b4\u00b4beam_width\u00b4\u00b4 most probable beams\n"
      ]
    },
    {
      "cell_type": "code",
      "execution_count": null,
      "metadata": {
        "collapsed": false
      },
      "outputs": [],
      "source": [
        "from danspeech import Recognizer\nfrom danspeech.pretrained_models import TestModel\nfrom danspeech.language_models import DSL3gram\nfrom danspeech.audio import load_audio\n\n# Load a DanSpeech model. If the model does not exists, it will be downloaded.\nmodel = TestModel()\nrecognizer = Recognizer(model=model)\n\n# Load the audio file.\naudio = load_audio(path=\"../example_files/u0013002.wav\")\n\nprint()\nprint(\"No language model:\")\nprint(recognizer.recognize(audio))\n\n# DanSpeech with a language model.\n# Note: Requires ctcdecode to work!\nlm = DSL3gram()\nrecognizer.update_decoder(lm=lm, alpha=1.2, beta=0.15, beam_width=10)\n\nprint()\nprint(\"Single transcription:\")\nprint(recognizer.recognize(audio, show_all=False))\n\nprint()\nbeams = recognizer.recognize(audio, show_all=True)\nprint(\"Most likely beams:\")\nfor beam in beams:\n    print(beam)"
      ]
    }
  ],
  "metadata": {
    "kernelspec": {
      "display_name": "Python 3",
      "language": "python",
      "name": "python3"
    },
    "language_info": {
      "codemirror_mode": {
        "name": "ipython",
        "version": 3
      },
      "file_extension": ".py",
      "mimetype": "text/x-python",
      "name": "python",
      "nbconvert_exporter": "python",
      "pygments_lexer": "ipython3",
      "version": "3.7.3"
    }
  },
  "nbformat": 4,
  "nbformat_minor": 0
}