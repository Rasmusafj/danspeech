{
  "cells": [
    {
      "cell_type": "code",
      "execution_count": null,
      "metadata": {
        "collapsed": false
      },
      "outputs": [],
      "source": [
        "%matplotlib inline"
      ]
    },
    {
      "cell_type": "markdown",
      "metadata": {},
      "source": [
        "\nStream of audio from your microphone\n====================================\n\nThis is an example of using your own Microphone to continuously transcribe what is being uttered. Whenever the\nrecognizer detects a silence in the audio stream from your microphone, it will be transcribed.\n"
      ]
    },
    {
      "cell_type": "code",
      "execution_count": null,
      "metadata": {
        "collapsed": false
      },
      "outputs": [],
      "source": [
        "from danspeech import Recognizer\nfrom danspeech.pretrained_models import TransferLearned\nfrom danspeech.audio.resources import Microphone\nfrom danspeech.language_models import DSL3gram\n\n\n# Get a list of microphones found by PyAudio\nmic_list = Microphone.list_microphone_names()\nmic_list_with_numbers = list(zip(range(len(mic_list)), mic_list))\nprint(\"Available microphones: {0}\".format(mic_list_with_numbers))\n\n# Choose the microphone\nmic_number = input(\"Pick the number of the microphone you would like to use: \")\n\n# Init a microphone object\nm = Microphone(sampling_rate=16000, device_index=int(mic_number))\n\n# Init a DanSpeech model and create a Recognizer instance\nmodel = TransferLearned()\nrecognizer = Recognizer(model=model)\n\n# Try using the DSL 3 gram language model\ntry:\n    lm = DSL3gram()\n    recognizer.update_decoder(lm=lm)\nexcept ImportError:\n    print(\"ctcdecode not installed. Using greedy decoding.\")\n\nprint(\"Speek a lot to adjust silence detection from microphone...\")\nwith m as source:\n    recognizer.adjust_for_speech(source, duration=5)\n\n# Enable streaming\nrecognizer.enable_streaming()\n\n# Create the streaming generator which runs a background thread listening to the microphone stream\ngenerator = recognizer.streaming(source=m)\n\n# The below code runs for a long time. The generator returns transcriptions of spoken speech from your microphone.\nprint(\"Speak\")\nfor i in range(100000):\n    trans = next(generator)\n    print(trans)"
      ]
    }
  ],
  "metadata": {
    "kernelspec": {
      "display_name": "Python 3",
      "language": "python",
      "name": "python3"
    },
    "language_info": {
      "codemirror_mode": {
        "name": "ipython",
        "version": 3
      },
      "file_extension": ".py",
      "mimetype": "text/x-python",
      "name": "python",
      "nbconvert_exporter": "python",
      "pygments_lexer": "ipython3",
      "version": "3.7.3"
    }
  },
  "nbformat": 4,
  "nbformat_minor": 0
}