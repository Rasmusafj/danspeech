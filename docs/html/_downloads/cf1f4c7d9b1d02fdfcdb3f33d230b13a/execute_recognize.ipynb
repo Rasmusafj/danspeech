{
  "cells": [
    {
      "cell_type": "code",
      "execution_count": null,
      "metadata": {
        "collapsed": false
      },
      "outputs": [],
      "source": [
        "%matplotlib inline"
      ]
    },
    {
      "cell_type": "markdown",
      "metadata": {},
      "source": [
        "\nTranscribing a single audio file\n================================\n\nIn this example script, DanSpeech is used to transcribe the same audio file with three different outputs:\n\n- **Greedy decoding**: using no external language model.\n\n- **Beam search decoding 1**: Decoding with a language model (:meth:`language_models.DSL3gram`).\n\n- **Beam search decoding 2**: Decoding with a language model (:meth:`language_models.DSL3gram`) and returning all the beam_width most probable beams.\n"
      ]
    },
    {
      "cell_type": "code",
      "execution_count": null,
      "metadata": {
        "collapsed": false
      },
      "outputs": [],
      "source": [
        "from danspeech import Recognizer\nfrom danspeech.pretrained_models import TestModel\nfrom danspeech.language_models import DSL3gram\nfrom danspeech.audio import load_audio\n\n# Load a DanSpeech model. If the model does not exists, it will be downloaded.\nmodel = TestModel()\nrecognizer = Recognizer(model=model)\n\n# Load the audio file.\naudio = load_audio(path=\"../example_files/u0013002.wav\")\n\nprint()\nprint(\"No language model:\")\nprint(recognizer.recognize(audio))\n\n# DanSpeech with a language model.\n# Note: Requires ctcdecode to work!\ntry:\n    lm = DSL3gram()\n    recognizer.update_decoder(lm=lm, alpha=1.2, beta=0.15, beam_width=10)\nexcept ImportError:\n    print(\"ctcdecode not installed. Using greedy decoding.\")\n\nprint()\nprint(\"Single transcription:\")\nprint(recognizer.recognize(audio, show_all=False))\n\nprint()\nbeams = recognizer.recognize(audio, show_all=True)\nprint(\"Most likely beams:\")\nfor beam in beams:\n    print(beam)"
      ]
    }
  ],
  "metadata": {
    "kernelspec": {
      "display_name": "Python 3",
      "language": "python",
      "name": "python3"
    },
    "language_info": {
      "codemirror_mode": {
        "name": "ipython",
        "version": 3
      },
      "file_extension": ".py",
      "mimetype": "text/x-python",
      "name": "python",
      "nbconvert_exporter": "python",
      "pygments_lexer": "ipython3",
      "version": "3.7.3"
    }
  },
  "nbformat": 4,
  "nbformat_minor": 0
}